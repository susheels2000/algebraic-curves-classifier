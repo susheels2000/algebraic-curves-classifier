{
 "cells": [
  {
   "cell_type": "code",
   "execution_count": 1,
   "id": "587ae2f8",
   "metadata": {},
   "outputs": [],
   "source": [
    "import os\n",
    "import torch\n",
    "import torch.nn as nn\n",
    "from torchvision import datasets, transforms\n",
    "from torch.utils.data import DataLoader, random_split\n",
    "import torch.optim as optim\n",
    "import torch.nn.functional as F\n"
   ]
  },
  {
   "cell_type": "code",
   "execution_count": 2,
   "id": "6ebbf66f",
   "metadata": {},
   "outputs": [],
   "source": [
    "# DESIGNING A CUSTOM CNN\n",
    "\n",
    "# This model expects a 320x320 pixel greyscale image\n",
    "\n",
    "class CNN_AVG(nn.Module):\n",
    "    def __init__(self):\n",
    "        super().__init__()\n",
    "        \n",
    "        #defining the paramteres of our model\n",
    "        \n",
    "        self.conv1 = nn.Conv2d(in_channels = 1, out_channels = 16, kernel_size = 5, padding = 2) #first convolution layer\n",
    "        \n",
    "        self.pool = nn.AvgPool2d(kernel_size=2, stride=2) #pooling step\n",
    "        \n",
    "        self.bn1 = nn.BatchNorm2d(16)\n",
    "        \n",
    "        self.conv2 = nn.Conv2d(in_channels = 16, out_channels = 32, kernel_size = 5, padding = 2)# second convolution layer\n",
    "        \n",
    "        self.bn2 = nn.BatchNorm2d(32)\n",
    "        \n",
    "        self.conv3 = nn.Conv2d(in_channels =32 , out_channels = 64, kernel_size =5, padding = 2 ) # third convolution layer\n",
    "        \n",
    "        self.bn3 = nn.BatchNorm2d(64)\n",
    "        \n",
    "       \n",
    "        \n",
    "        self.conv5 = nn.Conv2d(in_channels =64 , out_channels = 128, kernel_size =3, padding =1 ) # fourth convolution layer\n",
    "        \n",
    "        self.bn5 = nn.BatchNorm2d(128)\n",
    "        \n",
    "        self.conv6 = nn.Conv2d(in_channels =128 , out_channels = 256, kernel_size =3, padding =1 ) # fifth convolution layer\n",
    "        \n",
    "        self.bn6 = nn.BatchNorm2d(256)\n",
    "        \n",
    "        self.fc1 = nn.Linear(256*10*10,256)\n",
    "        \n",
    "        self.dropout = nn.Dropout(0.5)\n",
    "        \n",
    "        self.fc2 = nn.Linear(256,3) ## 3 channel output as we need to classify if it is node, cusp or smooth\n",
    "        \n",
    "        \n",
    "    def forward(self, x):                      # denotes the shape of the tensor in each step\n",
    "        x = F.relu(self.bn1(self.conv1(x)))\n",
    "        x=self.pool(x)                         # [B,16,160,160]  \n",
    "        \n",
    "        x = F.relu(self.bn2(self.conv2(x)))\n",
    "        x = self.pool(x)                       # [B, 32, 80, 80]\n",
    "\n",
    "        x = F.relu(self.bn3(self.conv3(x)))\n",
    "        x = self.pool(x)                       # [B, 64, 40, 40]\n",
    "\n",
    "        x = F.relu(self.bn5(self.conv5(x)))\n",
    "        x = self.pool(x)                       # [B, 128, 20, 20]\n",
    "\n",
    "        x = F.relu(self.bn6(self.conv6(x)))\n",
    "        x = self.pool(x)                       # [B, 256, 10, 10]\n",
    "         \n",
    "        \n",
    "        x = x.view(-1, 256 * 10 * 10)\n",
    "        x = F.relu(self.fc1(x))\n",
    "        \n",
    "        x= self.dropout(x)\n",
    "        \n",
    "        x = self.fc2(x)\n",
    "        \n",
    "      \n",
    "        return x\n",
    "    \n",
    "    "
   ]
  },
  {
   "cell_type": "code",
   "execution_count": 3,
   "id": "6ed79dcb",
   "metadata": {},
   "outputs": [
    {
     "data": {
      "text/plain": [
       "{'cuspidal_curves_rescaled_CNN': 0,\n",
       " 'nodal_curves_rescaled_CNN': 1,\n",
       " 'smooth_curves_rescaled_CNN': 2}"
      ]
     },
     "execution_count": 3,
     "metadata": {},
     "output_type": "execute_result"
    }
   ],
   "source": [
    "transform= transforms.Compose([\n",
    "    transforms.Grayscale(num_output_channels = 1),\n",
    "    transforms.Resize((320,320)), # Resize to match model input\n",
    "    transforms.ToTensor(),  # Converts to tensor\n",
    "])\n",
    "\n",
    "full_dataset = datasets.ImageFolder(root = 'trained_data_(csv_in_order_)/Visible_node_and_cusps/train_data_5/rescaled_data', transform = transform)\n",
    "\n",
    "full_dataset.class_to_idx"
   ]
  },
  {
   "cell_type": "code",
   "execution_count": 4,
   "id": "031b0aea",
   "metadata": {},
   "outputs": [],
   "source": [
    "model = CNN_AVG()\n",
    "\n",
    "# Use GPU if available\n",
    "device = torch.device(\"cuda\" if torch.cuda.is_available() else \"cpu\")\n",
    "model = model.to(device)\n",
    "\n",
    "criterion = nn.CrossEntropyLoss()\n",
    "optimizer = optim.Adam(model.parameters(), lr=0.0001)"
   ]
  },
  {
   "cell_type": "code",
   "execution_count": 18,
   "id": "faf1939c",
   "metadata": {},
   "outputs": [],
   "source": [
    "# splitting data into train/validation sets (80-20)\n",
    "\n",
    "train_size = int(0.8*len(full_dataset))\n",
    "val_size = len(full_dataset)-train_size\n",
    "train_dataset, val_dataset = random_split(full_dataset, [train_size, val_size])\n",
    "\n",
    "train_loader = DataLoader(train_dataset, batch_size=32, shuffle=True)\n",
    "val_loader = DataLoader(val_dataset, batch_size=32, shuffle=False)"
   ]
  },
  {
   "cell_type": "code",
   "execution_count": 30,
   "id": "6df38ed5",
   "metadata": {
    "scrolled": true
   },
   "outputs": [
    {
     "name": "stdout",
     "output_type": "stream",
     "text": [
      "Epoch 1/20\n",
      "  Train Loss: 0.4304, Accuracy: 0.8335\n",
      "  Val   Loss: 0.3959, Accuracy: 0.8552\n",
      "> Saved best model at epoch 1 with val loss 0.3959\n",
      "Epoch 2/20\n",
      "  Train Loss: 0.4183, Accuracy: 0.8387\n",
      "  Val   Loss: 0.4166, Accuracy: 0.8481\n",
      "Epoch 3/20\n",
      "  Train Loss: 0.4132, Accuracy: 0.8406\n",
      "  Val   Loss: 0.3916, Accuracy: 0.8533\n",
      "> Saved best model at epoch 3 with val loss 0.3916\n",
      "Epoch 4/20\n",
      "  Train Loss: 0.4107, Accuracy: 0.8406\n",
      "  Val   Loss: 0.5259, Accuracy: 0.7956\n",
      "Epoch 5/20\n",
      "  Train Loss: 0.4022, Accuracy: 0.8431\n",
      "  Val   Loss: 0.3882, Accuracy: 0.8544\n",
      "> Saved best model at epoch 5 with val loss 0.3882\n",
      "Epoch 6/20\n",
      "  Train Loss: 0.4020, Accuracy: 0.8425\n",
      "  Val   Loss: 0.3945, Accuracy: 0.8515\n",
      "Epoch 7/20\n",
      "  Train Loss: 0.3989, Accuracy: 0.8462\n",
      "  Val   Loss: 2.9636, Accuracy: 0.5941\n",
      "Epoch 8/20\n",
      "  Train Loss: 0.4003, Accuracy: 0.8449\n",
      "  Val   Loss: 0.3831, Accuracy: 0.8574\n",
      "> Saved best model at epoch 8 with val loss 0.3831\n",
      "Epoch 9/20\n",
      "  Train Loss: 0.3956, Accuracy: 0.8478\n",
      "  Val   Loss: 0.8431, Accuracy: 0.6974\n",
      "Epoch 10/20\n",
      "  Train Loss: 0.3959, Accuracy: 0.8481\n",
      "  Val   Loss: 1.3943, Accuracy: 0.5981\n",
      "Epoch 11/20\n",
      "  Train Loss: 0.3918, Accuracy: 0.8481\n",
      "  Val   Loss: 0.3950, Accuracy: 0.8511\n",
      "Epoch 12/20\n",
      "  Train Loss: 0.3903, Accuracy: 0.8488\n",
      "  Val   Loss: 0.3799, Accuracy: 0.8596\n",
      "> Saved best model at epoch 12 with val loss 0.3799\n",
      "Epoch 13/20\n",
      "  Train Loss: 0.3897, Accuracy: 0.8488\n",
      "  Val   Loss: 0.4333, Accuracy: 0.8330\n",
      "Epoch 14/20\n",
      "  Train Loss: 0.3893, Accuracy: 0.8495\n",
      "  Val   Loss: 1.1870, Accuracy: 0.6452\n",
      "Epoch 15/20\n",
      "  Train Loss: 0.3848, Accuracy: 0.8497\n",
      "  Val   Loss: 1.3173, Accuracy: 0.6496\n",
      "Epoch 16/20\n",
      "  Train Loss: 0.3805, Accuracy: 0.8509\n",
      "  Val   Loss: 0.5479, Accuracy: 0.7656\n",
      "Epoch 17/20\n",
      "  Train Loss: 0.3806, Accuracy: 0.8523\n",
      "  Val   Loss: 1.3424, Accuracy: 0.6178\n",
      "Epoch 18/20\n",
      "  Train Loss: 0.3790, Accuracy: 0.8519\n",
      "  Val   Loss: 0.7473, Accuracy: 0.7252\n",
      "Epoch 19/20\n",
      "  Train Loss: 0.3799, Accuracy: 0.8529\n",
      "  Val   Loss: 1.1361, Accuracy: 0.6233\n",
      "Epoch 20/20\n",
      "  Train Loss: 0.3728, Accuracy: 0.8564\n",
      "  Val   Loss: 0.3909, Accuracy: 0.8574\n"
     ]
    }
   ],
   "source": [
    "## training and validation loop\n",
    "\n",
    "epochs = 20\n",
    "\n",
    "best= float('inf')\n",
    "\n",
    "for epoch in range(epochs):\n",
    "    model.train()\n",
    "    train_loss = 0.0\n",
    "    train_correct = 0\n",
    "    \n",
    "    #Optimizing step\n",
    "    \n",
    "    for images, labels in train_loader:\n",
    "        images, labels = images.to(device), labels.to(device)\n",
    "\n",
    "        \n",
    "        optimizer.zero_grad()\n",
    "        outputs = model(images)\n",
    "        loss = criterion(outputs, labels)\n",
    "        loss.backward()\n",
    "        optimizer.step()\n",
    "\n",
    "        train_loss += loss.item() * images.size(0)\n",
    "        preds = outputs.argmax(dim=1)\n",
    "        train_correct += (preds == labels).sum().item()\n",
    "\n",
    "    avg_train_loss = train_loss / len(train_loader.dataset)\n",
    "    train_accuracy = train_correct / len(train_loader.dataset)\n",
    "\n",
    "    model.eval()\n",
    "    val_loss = 0.0\n",
    "    val_correct = 0\n",
    "    \n",
    "    #Validation step\n",
    "    \n",
    "    with torch.no_grad():\n",
    "        for images, labels in val_loader:\n",
    "            images, labels = images.to(device), labels.to(device)\n",
    "\n",
    "            outputs = model(images)\n",
    "            loss = criterion(outputs, labels)\n",
    "\n",
    "            val_loss += loss.item() * images.size(0)\n",
    "            preds = outputs.argmax(dim=1)\n",
    "            val_correct += (preds == labels).sum().item()\n",
    "\n",
    "    avg_val_loss = val_loss / len(val_loader.dataset)\n",
    "    val_accuracy = val_correct / len(val_loader.dataset)\n",
    "\n",
    "    print(f\"Epoch {epoch+1}/{epochs}\")\n",
    "    print(f\"  Train Loss: {avg_train_loss:.4f}, Accuracy: {train_accuracy:.4f}\")\n",
    "    print(f\"  Val   Loss: {avg_val_loss:.4f}, Accuracy: {val_accuracy:.4f}\")  \n",
    "    if avg_val_loss<best:\n",
    "        torch.save(model.state_dict(), f\"cnn_avg.pth\")\n",
    "        print(f\"> Saved best model at epoch {epoch+1} with val loss {avg_val_loss:.4f}\")\n",
    "        best = avg_val_loss\n",
    "        \n",
    "    "
   ]
  },
  {
   "cell_type": "markdown",
   "id": "90a77e53",
   "metadata": {},
   "source": [
    "# TESTING PHASE BELOW\n",
    "## we will test and use a confususion matrix to see the performance"
   ]
  },
  {
   "cell_type": "code",
   "execution_count": 5,
   "id": "b5efed64",
   "metadata": {},
   "outputs": [],
   "source": [
    "test_dataset = datasets.ImageFolder(root = 'testing_set/test_data', transform = transform)"
   ]
  },
  {
   "cell_type": "code",
   "execution_count": 6,
   "id": "a69ff218",
   "metadata": {},
   "outputs": [
    {
     "data": {
      "text/plain": [
       "{'cuspidal_curves_rescaled_CNN': 0,\n",
       " 'nodal_curves_rescaled_CNN': 1,\n",
       " 'smooth_curves_rescaled_CNN': 2}"
      ]
     },
     "execution_count": 6,
     "metadata": {},
     "output_type": "execute_result"
    }
   ],
   "source": [
    "test_dataset.class_to_idx\n"
   ]
  },
  {
   "cell_type": "code",
   "execution_count": 7,
   "id": "77c325e9",
   "metadata": {},
   "outputs": [
    {
     "name": "stderr",
     "output_type": "stream",
     "text": [
      "C:\\Users\\sushe\\AppData\\Local\\Temp\\ipykernel_22140\\2983076606.py:1: FutureWarning: You are using `torch.load` with `weights_only=False` (the current default value), which uses the default pickle module implicitly. It is possible to construct malicious pickle data which will execute arbitrary code during unpickling (See https://github.com/pytorch/pytorch/blob/main/SECURITY.md#untrusted-models for more details). In a future release, the default value for `weights_only` will be flipped to `True`. This limits the functions that could be executed during unpickling. Arbitrary objects will no longer be allowed to be loaded via this mode unless they are explicitly allowlisted by the user via `torch.serialization.add_safe_globals`. We recommend you start setting `weights_only=True` for any use case where you don't have full control of the loaded file. Please open an issue on GitHub for any issues related to this experimental feature.\n",
      "  model.load_state_dict(torch.load(\"cnn_avg.pth\"))\n"
     ]
    },
    {
     "data": {
      "text/plain": [
       "<All keys matched successfully>"
      ]
     },
     "execution_count": 7,
     "metadata": {},
     "output_type": "execute_result"
    }
   ],
   "source": [
    "model.load_state_dict(torch.load(\"cnn_avg.pth\"))"
   ]
  },
  {
   "cell_type": "code",
   "execution_count": 8,
   "id": "05a3e090",
   "metadata": {},
   "outputs": [
    {
     "name": "stdout",
     "output_type": "stream",
     "text": [
      "  Test   Loss: 0.3431, Accuracy: 0.8847\n"
     ]
    },
    {
     "data": {
      "image/png": "[encoded data removed]",
      "text/plain": [
       "<Figure size 640x480 with 2 Axes>"
      ]
     },
     "metadata": {},
     "output_type": "display_data"
    }
   ],
   "source": [
    "from sklearn.metrics import confusion_matrix, ConfusionMatrixDisplay\n",
    "import matplotlib.pyplot as plt\n",
    "from collections import Counter\n",
    "\n",
    "\n",
    "all_preds = []\n",
    "all_labels = []\n",
    "\n",
    "model.eval()\n",
    "test_loss = 0.0\n",
    "test_correct = 0\n",
    "test_loader = DataLoader(test_dataset, batch_size=32, shuffle=False)\n",
    "\n",
    "\n",
    "## Testing step\n",
    "\n",
    "with torch.no_grad():\n",
    "    for images, labels in test_loader:\n",
    "        images, labels = images.to(device), labels.to(device)\n",
    "        outputs = model(images)\n",
    "        loss = criterion(outputs, labels)\n",
    "\n",
    "        test_loss += loss.item() * images.size(0)\n",
    "        preds = outputs.argmax(dim=1)\n",
    "        test_correct += (preds == labels).sum().item()\n",
    "\n",
    "        all_preds.extend(preds.cpu().numpy())\n",
    "        all_labels.extend(labels.cpu().numpy())\n",
    "\n",
    "        \n",
    "avg_test_loss = test_loss / len(test_loader.dataset)\n",
    "test_accuracy = test_correct / len(test_loader.dataset)\n",
    "print(f\"  Test   Loss: {avg_test_loss:.4f}, Accuracy: {test_accuracy:.4f}\")\n",
    "\n",
    "#  Confusion matrix\n",
    "\n",
    "cm = confusion_matrix(all_labels, all_preds)\n",
    "disp = ConfusionMatrixDisplay(confusion_matrix=cm)\n",
    "disp.plot(cmap=plt.cm.Blues)\n",
    "plt.title(\"Confusion Matrix\")\n",
    "plt.show()\n"
   ]
  },
  {
   "cell_type": "code",
   "execution_count": null,
   "id": "f84895ae",
   "metadata": {},
   "outputs": [],
   "source": []
  }
 ],
 "metadata": {
  "kernelspec": {
   "display_name": "Python 3 (ipykernel)",
   "language": "python",
   "name": "python3"
  },
  "language_info": {
   "codemirror_mode": {
    "name": "ipython",
    "version": 3
   },
   "file_extension": ".py",
   "mimetype": "text/x-python",
   "name": "python",
   "nbconvert_exporter": "python",
   "pygments_lexer": "ipython3",
   "version": "3.8.4"
  }
 },
 "nbformat": 4,
 "nbformat_minor": 5
}
